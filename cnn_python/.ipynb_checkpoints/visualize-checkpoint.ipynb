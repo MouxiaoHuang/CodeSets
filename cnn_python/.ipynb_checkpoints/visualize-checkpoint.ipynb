{
 "cells": [
  {
   "cell_type": "code",
   "execution_count": 1,
   "metadata": {},
   "outputs": [
    {
     "name": "stdout",
     "output_type": "stream",
     "text": [
      "test\n"
     ]
    }
   ],
   "source": [
    "print('test')"
   ]
  },
  {
   "cell_type": "code",
   "execution_count": 2,
   "metadata": {},
   "outputs": [
    {
     "name": "stdout",
     "output_type": "stream",
     "text": [
      "Definitions of transfer function finished!\n"
     ]
    }
   ],
   "source": [
    "'''\n",
    "train-images-idx3-ubyte: 训练集图片\n",
    "train-labels-idx1-ubyte: 训练集标签 \n",
    "t10k-images-idx3-ubyte:  测试集图片\n",
    "t10k-labels-idx1-ubyte:  测试集标签\n",
    "'''\n",
    "import struct\n",
    "import numpy as np\n",
    "\n",
    "def decode_idx3_ubyte(idx3_ubyte_file):\n",
    "    with open(idx3_ubyte_file, 'rb') as f:\n",
    "        print('解析文件：', idx3_ubyte_file)\n",
    "        fb_data = f.read()\n",
    "\n",
    "    offset = 0\n",
    "    fmt_header = '>iiii'    # 以大端法读取4个 unsinged int32\n",
    "    magic_number, num_images, num_rows, num_cols = struct.unpack_from(fmt_header, fb_data, offset)\n",
    "    print('魔数：{}，图片数：{}'.format(magic_number, num_images))\n",
    "    offset += struct.calcsize(fmt_header)\n",
    "    fmt_image = '>' + str(num_rows * num_cols) + 'B'\n",
    "\n",
    "    images = np.empty((num_images, num_rows, num_cols))\n",
    "    for i in range(num_images):\n",
    "        im = struct.unpack_from(fmt_image, fb_data, offset)\n",
    "        images[i] = np.array(im).reshape((num_rows, num_cols))\n",
    "        offset += struct.calcsize(fmt_image)\n",
    "    return images\n",
    "\n",
    "def decode_idx1_ubyte(idx1_ubyte_file):\n",
    "    with open(idx1_ubyte_file, 'rb') as f:\n",
    "        print('解析文件：', idx1_ubyte_file)\n",
    "        fb_data = f.read()\n",
    "\n",
    "    offset = 0\n",
    "    fmt_header = '>ii'  # 以大端法读取两个 unsinged int32\n",
    "    magic_number, label_num = struct.unpack_from(fmt_header, fb_data, offset)\n",
    "    print('魔数：{}，标签数：{}'.format(magic_number, label_num))\n",
    "    offset += struct.calcsize(fmt_header)\n",
    "    labels = []\n",
    "\n",
    "    fmt_label = '>B'    # 每次读取一个 byte\n",
    "    for i in range(label_num):\n",
    "        labels.append(struct.unpack_from(fmt_label, fb_data, offset)[0])\n",
    "        offset += struct.calcsize(fmt_label)\n",
    "    return labels\n",
    "\n",
    "print('Definitions of transfer function finished!')"
   ]
  },
  {
   "cell_type": "code",
   "execution_count": 3,
   "metadata": {},
   "outputs": [
    {
     "name": "stdout",
     "output_type": "stream",
     "text": [
      "/Users/neohuang/Downloads/data/mnist/train\n",
      "解析文件： /Users/neohuang/Downloads/data/mnist/train-images-idx3-ubyte\n",
      "魔数：2051，图片数：60000\n",
      "解析文件： /Users/neohuang/Downloads/data/mnist/train-labels-idx1-ubyte\n",
      "魔数：2049，标签数：60000\n",
      "/Users/neohuang/Downloads/data/mnist/train/5\n",
      "/Users/neohuang/Downloads/data/mnist/train/0\n",
      "/Users/neohuang/Downloads/data/mnist/train/4\n",
      "/Users/neohuang/Downloads/data/mnist/train/1\n",
      "/Users/neohuang/Downloads/data/mnist/train/9\n",
      "/Users/neohuang/Downloads/data/mnist/train/2\n",
      "/Users/neohuang/Downloads/data/mnist/train/3\n",
      "/Users/neohuang/Downloads/data/mnist/train/6\n",
      "/Users/neohuang/Downloads/data/mnist/train/7\n",
      "/Users/neohuang/Downloads/data/mnist/train/8\n",
      "/Users/neohuang/Downloads/data/mnist/test\n",
      "解析文件： /Users/neohuang/Downloads/data/mnist/t10k-images-idx3-ubyte\n",
      "魔数：2051，图片数：10000\n",
      "解析文件： /Users/neohuang/Downloads/data/mnist/t10k-labels-idx1-ubyte\n",
      "魔数：2049，标签数：10000\n",
      "/Users/neohuang/Downloads/data/mnist/test/7\n",
      "/Users/neohuang/Downloads/data/mnist/test/2\n",
      "/Users/neohuang/Downloads/data/mnist/test/1\n",
      "/Users/neohuang/Downloads/data/mnist/test/0\n",
      "/Users/neohuang/Downloads/data/mnist/test/4\n",
      "/Users/neohuang/Downloads/data/mnist/test/9\n",
      "/Users/neohuang/Downloads/data/mnist/test/5\n",
      "/Users/neohuang/Downloads/data/mnist/test/6\n",
      "/Users/neohuang/Downloads/data/mnist/test/3\n",
      "/Users/neohuang/Downloads/data/mnist/test/8\n"
     ]
    }
   ],
   "source": [
    "import os\n",
    "import cv2\n",
    "\n",
    "def check_folder(folder):\n",
    "    \"\"\"检查文件文件夹是否存在，不存在则创建\"\"\"\n",
    "    if not os.path.exists(folder):\n",
    "        os.mkdir(folder)\n",
    "        print(folder)\n",
    "    else:\n",
    "        if not os.path.isdir(folder):\n",
    "            os.mkdir(folder)\n",
    "\n",
    "\n",
    "def export_img(exp_dir, img_ubyte, lable_ubyte):\n",
    "    \"\"\"\n",
    "    生成数据集\n",
    "    \"\"\"\n",
    "    check_folder(exp_dir)\n",
    "    images = decode_idx3_ubyte(img_ubyte)\n",
    "    labels = decode_idx1_ubyte(lable_ubyte)\n",
    "\n",
    "    nums = len(labels)\n",
    "    for i in range(nums):\n",
    "        img_dir = os.path.join(exp_dir, str(labels[i]))\n",
    "        check_folder(img_dir)\n",
    "        img_file = os.path.join(img_dir, str(i)+'.png')\n",
    "        imarr = images[i]\n",
    "        cv2.imwrite(img_file, imarr)\n",
    "\n",
    "\n",
    "def parser_mnist_data(data_dir):\n",
    "\n",
    "    train_dir = os.path.join(data_dir, 'train')\n",
    "    train_img_ubyte = os.path.join(data_dir, 'train-images-idx3-ubyte')\n",
    "    train_label_ubyte = os.path.join(data_dir, 'train-labels-idx1-ubyte')\n",
    "    export_img(train_dir, train_img_ubyte, train_label_ubyte)\n",
    "\n",
    "    test_dir = os.path.join(data_dir, 'test')\n",
    "    test_img_ubyte = os.path.join(data_dir, 't10k-images-idx3-ubyte')\n",
    "    test_label_ubyte = os.path.join(data_dir, 't10k-labels-idx1-ubyte')\n",
    "    export_img(test_dir, test_img_ubyte, test_label_ubyte)\n",
    "\n",
    "\n",
    "if __name__ == '__main__':\n",
    "    data_dir = '/Users/neohuang/Downloads/data/mnist/'\n",
    "    parser_mnist_data(data_dir)"
   ]
  },
  {
   "cell_type": "code",
   "execution_count": 19,
   "metadata": {},
   "outputs": [
    {
     "name": "stdout",
     "output_type": "stream",
     "text": [
      "<PIL.PngImagePlugin.PngImageFile image mode=L size=28x28 at 0x7FD7F4C15590>\n",
      "(28, 28) <class 'numpy.ndarray'>\n",
      "<PIL.PngImagePlugin.PngImageFile image mode=L size=28x28 at 0x7FD7F4BF2B50>\n",
      "(28, 28) <class 'numpy.ndarray'>\n",
      "<PIL.PngImagePlugin.PngImageFile image mode=L size=28x28 at 0x7FD7F4C09490>\n",
      "(28, 28) <class 'numpy.ndarray'>\n",
      "<PIL.PngImagePlugin.PngImageFile image mode=L size=28x28 at 0x7FD7F4C04C90>\n",
      "(28, 28) <class 'numpy.ndarray'>\n",
      "<PIL.PngImagePlugin.PngImageFile image mode=L size=28x28 at 0x7FD7F4C14E10>\n",
      "(28, 28) <class 'numpy.ndarray'>\n",
      "<PIL.PngImagePlugin.PngImageFile image mode=L size=28x28 at 0x7FD7F4B2CC10>\n",
      "(28, 28) <class 'numpy.ndarray'>\n",
      "<PIL.PngImagePlugin.PngImageFile image mode=L size=28x28 at 0x7FD7F4C09A10>\n",
      "(28, 28) <class 'numpy.ndarray'>\n",
      "<PIL.PngImagePlugin.PngImageFile image mode=L size=28x28 at 0x7FD7F4BF30D0>\n",
      "(28, 28) <class 'numpy.ndarray'>\n",
      "<PIL.PngImagePlugin.PngImageFile image mode=L size=28x28 at 0x7FD7F4B25810>\n",
      "(28, 28) <class 'numpy.ndarray'>\n",
      "<PIL.PngImagePlugin.PngImageFile image mode=L size=28x28 at 0x7FD7F4C28FD0>\n",
      "(28, 28) <class 'numpy.ndarray'>\n"
     ]
    }
   ],
   "source": [
    "from PIL import Image\n",
    "import IPython.display as display\n",
    "import os\n",
    "\n",
    "root_path = '/Users/neohuang/Downloads/data/mnist/'\n",
    "def read_mnist_img(path):\n",
    "    for filename in os.listdir(path):\n",
    "        if '.' in filename:\n",
    "            continue\n",
    "        filename = os.path.join(path, filename)\n",
    "        for img_name in os.listdir(filename):\n",
    "            img_path = os.path.join(filename, img_name)\n",
    "            img = Image.open(img_path)\n",
    "#             display.display(img)\n",
    "            print(img)\n",
    "            img = np.array(img)\n",
    "            print(img.shape, type(img))\n",
    "            break\n",
    "\n",
    "read_mnist_img(path = root_path + 'train')"
   ]
  },
  {
   "cell_type": "code",
   "execution_count": null,
   "metadata": {},
   "outputs": [],
   "source": []
  }
 ],
 "metadata": {
  "kernelspec": {
   "display_name": "Python 3",
   "language": "python",
   "name": "python3"
  },
  "language_info": {
   "codemirror_mode": {
    "name": "ipython",
    "version": 3
   },
   "file_extension": ".py",
   "mimetype": "text/x-python",
   "name": "python",
   "nbconvert_exporter": "python",
   "pygments_lexer": "ipython3",
   "version": "3.7.4"
  },
  "vscode": {
   "interpreter": {
    "hash": "7b4b731a9296b4e883833d1e8499b845781bd969f714ea3f859e1177c8641c3e"
   }
  }
 },
 "nbformat": 4,
 "nbformat_minor": 2
}

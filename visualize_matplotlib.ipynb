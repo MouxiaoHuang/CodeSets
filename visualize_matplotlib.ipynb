{
 "cells": [
  {
   "cell_type": "code",
   "execution_count": 1,
   "metadata": {},
   "outputs": [
    {
     "ename": "",
     "evalue": "",
     "output_type": "error",
     "traceback": [
      "\u001b[1;31mCanceled future for execute_request message before replies were done"
     ]
    },
    {
     "ename": "",
     "evalue": "",
     "output_type": "error",
     "traceback": [
      "The Kernel crashed while executing code in the the current cell or a previous cell. Please review the code in the cell(s) to identify a possible cause of the failure. Click <a href='https://aka.ms/vscodeJupyterKernelCrash'>here</a> for more info. View Jupyter <a href='command:jupyter.viewOutput'>log</a> for further details."
     ]
    }
   ],
   "source": [
    "# 散点图\n",
    "\n",
    "import matplotlib.pyplot as plt\n",
    "import numpy as np\n",
    "\n",
    "x = [1, 3, 5, 8, 10, 12, 15]\n",
    "y = [2, 3, 5, 6, 7, 13, 16]\n",
    "\n",
    "def scatter_plot(x_data, y_data, x_label = '', y_label = '', title = '', color = 'r', yscale_log=False):\n",
    "    # 新建plot对象\n",
    "    _, ax = plt.subplots()\n",
    "    # plot\n",
    "    # s: size, alpha: transparency\n",
    "    ax.scatter(x_data, y_data, s = 10, color = color, alpha = 0.75)\n",
    "    \n",
    "    if yscale_log:\n",
    "        ax.set_yscale('log')\n",
    "    \n",
    "    ax.set_title(title)\n",
    "    ax.set_xlabel(x_label)\n",
    "    ax.set_ylabel(y_label)\n",
    "\n",
    "scatter_plot(x, y, x_label = 'X', y_label = 'Y', title = 'X-Y SCATTER')"
   ]
  },
  {
   "cell_type": "code",
   "execution_count": 3,
   "metadata": {},
   "outputs": [
    {
     "data": {
      "image/png": "[encoded data removed]",
      "text/plain": [
       "<Figure size 432x288 with 1 Axes>"
      ]
     },
     "metadata": {
      "needs_background": "light"
     },
     "output_type": "display_data"
    }
   ],
   "source": [
    "# 折线图\n",
    "\n",
    "def line_plot(x_data, y_data, x_label = '', y_label = '', title = ''):\n",
    "    _, ax = plt.subplots()\n",
    "    \n",
    "    ax.plot(x_data, y_data, linewidth = 2, color = 'r', alpha = 1)\n",
    "    ax.set_title(title)\n",
    "    ax.set_xlabel = x_label\n",
    "    ax.set_ylabel = y_label\n",
    "    \n",
    "line_plot(x, y, x_label = 'X', y_label = 'Y', title = 'X-Y LINE')"
   ]
  },
  {
   "cell_type": "code",
   "execution_count": null,
   "metadata": {},
   "outputs": [],
   "source": []
  }
 ],
 "metadata": {
  "kernelspec": {
   "display_name": "Python 3.7.4 ('base')",
   "language": "python",
   "name": "python3"
  },
  "language_info": {
   "codemirror_mode": {
    "name": "ipython",
    "version": 3
   },
   "file_extension": ".py",
   "mimetype": "text/x-python",
   "name": "python",
   "nbconvert_exporter": "python",
   "pygments_lexer": "ipython3",
   "version": "3.7.4"
  },
  "vscode": {
   "interpreter": {
    "hash": "1c857e46ab439bb9a566458a504789cebd08a82d166953383d4c15c8865f76fc"
   }
  }
 },
 "nbformat": 4,
 "nbformat_minor": 2
}
